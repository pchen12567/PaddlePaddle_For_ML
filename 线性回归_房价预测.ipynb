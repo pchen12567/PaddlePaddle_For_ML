{
 "cells": [
  {
   "cell_type": "markdown",
   "metadata": {},
   "source": [
    "## 背景介绍"
   ]
  },
  {
   "cell_type": "markdown",
   "metadata": {},
   "source": [
    "### 线性回归"
   ]
  },
  {
   "cell_type": "markdown",
   "metadata": {},
   "source": [
    "经典的线性回归模型主要用来预测一些存在着线性关系的数据集。回归模型可以理解为：存在一个点集，用一条曲线去拟合它分布的过程。如果拟合曲线是一条直线，则称为线性回归。如果是一条二次曲线，则被称为二次回归。线性回归是回归模型中最简单的一种。\n",
    "\n",
    "在线性回归中：\n",
    "\n",
    "（1）假设函数是指，用数学的方法描述自变量和因变量之间的关系，它们之间可以是一个线性函数或非线性函数。 在本次线性回顾模型中，假设函数为 Y’= wX+b ，其中，Y’表示模型的预测结果（预测房价），用来和真实的Y区分。模型要学习的参数即：w,b。\n",
    "\n",
    "（2）损失函数是指，用数学的方法衡量假设函数预测结果与真实值之间的误差。这个差距越小预测越准确，而算法的任务就是使这个差距越来越小。 建立模型后，需要给模型一个优化目标，使得学到的参数能够让预测值Y’尽可能地接近真实值Y。这个实值通常用来反映模型误差的大小。不同问题场景下采用不同的损失函数。 对于线性模型来讲，最常用的损失函数就是均方误差（Mean Squared Error， MSE）。\n",
    "\n",
    "（3）优化算法：神经网络的训练就是调整权重（参数）使得损失函数值尽可能得小，在训练过程中，将损失函数值逐渐收敛，得到一组使得神经网络拟合真实模型的权重（参数）。所以，优化算法的最终目标是找到损失函数的最小值。而这个寻找过程就是不断地微调变量w和b的值，一步一步地试出这个最小值。 常见的优化算法有随机梯度下降法（SGD）、Adam算法等等"
   ]
  },
  {
   "cell_type": "markdown",
   "metadata": {},
   "source": [
    "### 训练过程"
   ]
  },
  {
   "cell_type": "markdown",
   "metadata": {},
   "source": [
    "定义好模型结构之后，我们要通过以下几个步骤进行模型训练\n",
    "\n",
    "1. 初始化参数，其中包括权重ωi和偏置b，对其进行初始化（如0均值，1方差）。\n",
    "2. 网络正向传播计算网络输出和损失函数。\n",
    "3. 根据损失函数进行反向误差传播 （backpropagation），将网络误差从输出层依次向前传递, 并更新网络中的参数。\n",
    "4. 重复2~3步骤，直至网络训练误差达到规定的程度或训练轮次达到设定值。"
   ]
  },
  {
   "cell_type": "markdown",
   "metadata": {},
   "source": [
    "## Step1:导入必要的包"
   ]
  },
  {
   "cell_type": "markdown",
   "metadata": {},
   "source": [
    "- paddle.fluid ----> PaddlePaddle 深度学习框架 \n",
    "- numpy ----> python 基本库，用于科学计算\n",
    "- matplotlib ----> python 绘图库，可方便绘制折线图、散点图等"
   ]
  },
  {
   "cell_type": "code",
   "execution_count": 1,
   "metadata": {},
   "outputs": [],
   "source": [
    "import paddle\n",
    "import paddle.fluid as fluid\n",
    "import numpy as np\n",
    "import sys\n",
    "import math\n",
    "import matplotlib.pyplot as plt\n",
    "\n",
    "%matplotlib inline"
   ]
  },
  {
   "cell_type": "markdown",
   "metadata": {},
   "source": [
    "## Step2: 准备数据"
   ]
  },
  {
   "cell_type": "markdown",
   "metadata": {},
   "source": [
    "1. uci-housing数据集介绍\n",
    "    - 数据集共506行,每行14列。前13列用来描述房屋的各种信息，最后一列为该类房屋价格中位数。\n",
    "\n",
    "\n",
    "2. 读取数据集的接口\n",
    "    - 训练集 paddle.dataset.uci_housing.train()\n",
    "    - 测试集 paddle.dataset.uci_housing.test()\n",
    "\n",
    "\n",
    "3. train_reader和test_reader\n",
    "    - paddle.reader.shuffle()  表示每次缓存BUF_SIZE个数据项，并进行打乱\n",
    "    - paddle.batch()  表示每BATCH_SIZE组成一个batch"
   ]
  },
  {
   "cell_type": "markdown",
   "metadata": {},
   "source": [
    "接下来定义用于训练的数据提供器。提供器每次读入一个大小为BATCH_SIZE的数据批次。如果希望加一些随机性，它可以同时定义一个批次大小和一个缓存大小。这样的话，每次数据提供器会从缓存中随机读取批次大小那么多的数据。"
   ]
  },
  {
   "cell_type": "code",
   "execution_count": 2,
   "metadata": {},
   "outputs": [],
   "source": [
    "# 定义缓存大小\n",
    "BUF_SIZE = 500\n",
    "\n",
    "# 定义批次大小\n",
    "BATCH_SIZE = 20"
   ]
  },
  {
   "cell_type": "code",
   "execution_count": 3,
   "metadata": {},
   "outputs": [],
   "source": [
    "# 用于训练的数据提供器，每次从缓存中随机读取批次大小的数据\n",
    "train_reader = paddle.batch(\n",
    "    paddle.reader.shuffle(paddle.dataset.uci_housing.train(),\n",
    "                          buf_size = BUF_SIZE),\n",
    "    batch_size = BATCH_SIZE)"
   ]
  },
  {
   "cell_type": "code",
   "execution_count": 4,
   "metadata": {},
   "outputs": [],
   "source": [
    "# 用于测试的数据提供器，每次从缓存中随机读取批次大小的数据\n",
    "test_reader = paddle.batch(\n",
    "    paddle.reader.shuffle(paddle.dataset.uci_housing.test(),\n",
    "                          buf_size = BUF_SIZE),\n",
    "    batch_size = BATCH_SIZE)"
   ]
  },
  {
   "cell_type": "markdown",
   "metadata": {},
   "source": [
    "如果想直接从txt文件中读取数据的话，可以参考以下方式(需要自行准备txt文件)。"
   ]
  },
  {
   "cell_type": "code",
   "execution_count": 5,
   "metadata": {},
   "outputs": [
    {
     "data": {
      "text/plain": [
       "\"\\nfeature_names = [\\n    'CRIM', 'ZN', 'INDUS', 'CHAS', 'NOX', 'RM', 'AGE', 'DIS', 'RAD', 'TAX',\\n    'PTRATIO', 'B', 'LSTAT', 'convert'\\n]\\nfeature_num = len(feature_names)\\ndata = numpy.fromfile(filename, sep=' ') # 从文件中读取原始数据\\ndata = data.reshape(data.shape[0] // feature_num, feature_num)\\nmaximums, minimums, avgs = data.max(axis=0), data.min(axis=0), data.sum(axis=0)/data.shape[0]\\n\\nfor i in six.moves.range(feature_num-1):\\n   data[:, i] = (data[:, i] - avgs[i]) / (maximums[i] - minimums[i]) # six.moves可以兼容python2和python3\\n\\nratio = 0.8 # 训练集和验证集的划分比例\\noffset = int(data.shape[0]*ratio)\\ntrain_data = data[:offset]\\ntest_data = data[offset:]\\n\\ndef reader_creator(train_data):  \\n    def reader():  \\n        for d in train_data:  \\n            yield d[:-1], d[-1:]  \\n    return reader\\n\\ntrain_reader = paddle.batch(\\n    paddle.reader.shuffle(\\n        reader_creator(train_data), buf_size=500),\\n        batch_size=BATCH_SIZE)\\n\\ntest_reader = paddle.batch(\\n    paddle.reader.shuffle(\\n        reader_creator(test_data), buf_size=500),\\n        batch_size=BATCH_SIZE)\\n\""
      ]
     },
     "execution_count": 5,
     "metadata": {},
     "output_type": "execute_result"
    }
   ],
   "source": [
    "\"\"\"\n",
    "feature_names = [\n",
    "    'CRIM', 'ZN', 'INDUS', 'CHAS', 'NOX', 'RM', 'AGE', 'DIS', 'RAD', 'TAX',\n",
    "    'PTRATIO', 'B', 'LSTAT', 'convert'\n",
    "]\n",
    "feature_num = len(feature_names)\n",
    "data = numpy.fromfile(filename, sep=' ') # 从文件中读取原始数据\n",
    "data = data.reshape(data.shape[0] // feature_num, feature_num)\n",
    "maximums, minimums, avgs = data.max(axis=0), data.min(axis=0), data.sum(axis=0)/data.shape[0]\n",
    "\n",
    "for i in six.moves.range(feature_num-1):\n",
    "   data[:, i] = (data[:, i] - avgs[i]) / (maximums[i] - minimums[i]) # six.moves可以兼容python2和python3\n",
    "\n",
    "ratio = 0.8 # 训练集和验证集的划分比例\n",
    "offset = int(data.shape[0]*ratio)\n",
    "train_data = data[:offset]\n",
    "test_data = data[offset:]\n",
    "\n",
    "def reader_creator(train_data):  \n",
    "    def reader():  \n",
    "        for d in train_data:  \n",
    "            yield d[:-1], d[-1:]  \n",
    "    return reader\n",
    "\n",
    "train_reader = paddle.batch(\n",
    "    paddle.reader.shuffle(\n",
    "        reader_creator(train_data), buf_size=500),\n",
    "        batch_size=BATCH_SIZE)\n",
    "\n",
    "test_reader = paddle.batch(\n",
    "    paddle.reader.shuffle(\n",
    "        reader_creator(test_data), buf_size=500),\n",
    "        batch_size=BATCH_SIZE)\n",
    "\"\"\""
   ]
  },
  {
   "cell_type": "markdown",
   "metadata": {},
   "source": [
    "4. 打印查看数据\n",
    "    - PaddlePaddle接口提供的数据已经经过归一化等处理"
   ]
  },
  {
   "cell_type": "code",
   "execution_count": 6,
   "metadata": {},
   "outputs": [
    {
     "name": "stdout",
     "output_type": "stream",
     "text": [
      "(array([-0.0405441 ,  0.06636364, -0.32356227, -0.06916996, -0.03435197,\n",
      "        0.05563625, -0.03475696,  0.02682186, -0.37171335, -0.21419304,\n",
      "       -0.33569506,  0.10143217, -0.21172912]), array([24.]))\n"
     ]
    }
   ],
   "source": [
    "# 用于打印，查看uci_housing数据\n",
    "train_data = paddle.dataset.uci_housing.train()\n",
    "sample_data = next(train_data())\n",
    "print(sample_data)"
   ]
  },
  {
   "cell_type": "markdown",
   "metadata": {},
   "source": [
    "## Step3: 配置训练程序"
   ]
  },
  {
   "cell_type": "markdown",
   "metadata": {},
   "source": [
    "### 3.1 网络搭建\n",
    "训练程序的目的是定义一个训练模型的网络结构。对于线性回归来讲，它就是一个从输入到输出的简单的全连接层。对于波士顿房价数据集，假设属性和房价之间的关系可以被属性间的线性组合描述。"
   ]
  },
  {
   "cell_type": "markdown",
   "metadata": {},
   "source": [
    "**图片待插入**"
   ]
  },
  {
   "cell_type": "code",
   "execution_count": 7,
   "metadata": {},
   "outputs": [],
   "source": [
    "# 定义张量变量x和数据类型，表示13维的特征值\n",
    "x = fluid.layers.data(name = 'x', shape = [13], dtype = 'float32')"
   ]
  },
  {
   "cell_type": "code",
   "execution_count": 8,
   "metadata": {},
   "outputs": [],
   "source": [
    "# 定义张量y和数据类型,表示目标值\n",
    "y = fluid.layers.data(name = 'y', shape = [1], dtype = 'float32')"
   ]
  },
  {
   "cell_type": "code",
   "execution_count": 9,
   "metadata": {},
   "outputs": [],
   "source": [
    "# 定义一个简单的线性网络,连接输入和输出的全连接层\n",
    "# input:输入tensor;\n",
    "# size:该层输出单元的数目\n",
    "# act:激活函数\n",
    "\n",
    "y_predict = fluid.layers.fc(input = x, size = 1, act = None)"
   ]
  },
  {
   "cell_type": "markdown",
   "metadata": {},
   "source": [
    "### 3.2 设置主函数\n",
    "- 参数初始化操作会被写入fluid.default_startup_program()\n",
    "- fluid.default_main_program()用于获取默认或全局main program(主程序)。该主程序用于训练和测试模型。fluid.layers 中的所有layer函数可以向 default_main_program 中添加算子和变量。\n",
    "- default_main_program 是fluid的许多编程接口（API）的Program参数的缺省值。例如,当用户program没有传入的时候， Executor.run() 会默认执行 default_main_program 。"
   ]
  },
  {
   "cell_type": "code",
   "execution_count": 10,
   "metadata": {},
   "outputs": [],
   "source": [
    "# 获取默认/全局主函数\n",
    "main_program = fluid.default_main_program()"
   ]
  },
  {
   "cell_type": "code",
   "execution_count": 11,
   "metadata": {},
   "outputs": [],
   "source": [
    "# 获取默认/全局启动程序\n",
    "startup_program = fluid.default_startup_program()"
   ]
  },
  {
   "cell_type": "markdown",
   "metadata": {},
   "source": [
    "### 3.3 定义损失函数\n",
    "- 此处使用均方差损失函数，它会被后面反向传播算法所用到。\n",
    "- square_error_cost(input,lable)：接受输入预测值和目标值，并返回方差估计，即为$(y-y_{predict})^2$"
   ]
  },
  {
   "cell_type": "code",
   "execution_count": 12,
   "metadata": {},
   "outputs": [],
   "source": [
    "# 求一个batch的损失值, 利用标签数据和输出的预测数据计算方差\n",
    "cost = fluid.layers.square_error_cost(input = y_predict, label = y)"
   ]
  },
  {
   "cell_type": "code",
   "execution_count": 13,
   "metadata": {},
   "outputs": [],
   "source": [
    "# 对方差求均值，得到平均损失\n",
    "avg_cost = fluid.layers.mean(cost)"
   ]
  },
  {
   "cell_type": "markdown",
   "metadata": {},
   "source": [
    "### 3.4 设置测试函数"
   ]
  },
  {
   "cell_type": "code",
   "execution_count": 14,
   "metadata": {},
   "outputs": [],
   "source": [
    "# 克隆main_program得到test_program\n",
    "# 有些operator在训练和测试之间的操作是不同的，\n",
    "# 例如batch_norm，使用参数for_test来区分该程序是用来训练还是用来测试\n",
    "# 该api不会删除任何操作符,请在backward和optimization之前使用\n",
    "\n",
    "test_program = main_program.clone(for_test=True)"
   ]
  },
  {
   "cell_type": "markdown",
   "metadata": {},
   "source": [
    "### 3.5 定义优化函数\n",
    "此处使用的是随机梯度下降。"
   ]
  },
  {
   "cell_type": "code",
   "execution_count": 15,
   "metadata": {},
   "outputs": [],
   "source": [
    "optimizer = fluid.optimizer.SGDOptimizer(learning_rate=0.001)\n",
    "opts = optimizer.minimize(avg_cost)"
   ]
  },
  {
   "cell_type": "markdown",
   "metadata": {},
   "source": [
    "## Step4: 模型训练和保存"
   ]
  },
  {
   "cell_type": "markdown",
   "metadata": {},
   "source": [
    "### 4.1 定义训练场所\n",
    "可以定义运算是发生在CPU还是GPU\n",
    "- use_cuda为False，表示运算场所为CPU\n",
    "- use_cuda为True，表示运算场所为GPU "
   ]
  },
  {
   "cell_type": "code",
   "execution_count": 16,
   "metadata": {},
   "outputs": [],
   "source": [
    "use_cuda = False"
   ]
  },
  {
   "cell_type": "code",
   "execution_count": 17,
   "metadata": {},
   "outputs": [],
   "source": [
    "# 指明executor的执行场所\n",
    "place = fluid.CUDAPlace(0) if use_cuda else fluid.CPUPlace()"
   ]
  },
  {
   "cell_type": "markdown",
   "metadata": {},
   "source": [
    "### 4.2 创建Executor\n",
    "- executor可以接受传入的program，并根据feed map(输入映射表)和fetch list(结果获取表)向program中添加数据输入算子和结果获取算子。\n",
    "- 使用close()关闭该executor\n",
    "- 调用run(...)执行program"
   ]
  },
  {
   "cell_type": "code",
   "execution_count": 18,
   "metadata": {},
   "outputs": [],
   "source": [
    "# 创建一个Executor实例exe\n",
    "exe = fluid.Executor(place)"
   ]
  },
  {
   "cell_type": "code",
   "execution_count": 19,
   "metadata": {},
   "outputs": [
    {
     "data": {
      "text/plain": [
       "[]"
      ]
     },
     "execution_count": 19,
     "metadata": {},
     "output_type": "execute_result"
    }
   ],
   "source": [
    "# Executor的run()方法执行startup_program(),进行参数初始化\n",
    "exe.run(startup_program)"
   ]
  },
  {
   "cell_type": "code",
   "execution_count": 20,
   "metadata": {},
   "outputs": [],
   "source": [
    "# 创建一个训练过程中测试用的Executor实例 exe_test\n",
    "exe_test = fluid.Executor(place)"
   ]
  },
  {
   "cell_type": "markdown",
   "metadata": {},
   "source": [
    "### 4.3 定义输入数据维度\n",
    "- DataFeeder负责将数据提供器（train_reader,test_reader）返回的数据转成一种特殊的数据结构，使其可以输入到Executor中。\n",
    "- feed_list设置向模型输入的向变量表或者变量表名"
   ]
  },
  {
   "cell_type": "code",
   "execution_count": 21,
   "metadata": {},
   "outputs": [],
   "source": [
    "# 定义输入数据维度\n",
    "# feed_list:向模型输入的变量表或变量表名\n",
    "feeder = fluid.DataFeeder(place = place, feed_list = [x, y])"
   ]
  },
  {
   "cell_type": "markdown",
   "metadata": {},
   "source": [
    "### 4.4 创建训练过程"
   ]
  },
  {
   "cell_type": "markdown",
   "metadata": {},
   "source": [
    "训练需要有一个训练程序和一些必要参数，并构建一个获取训练过程中测试误差的函数。"
   ]
  },
  {
   "cell_type": "markdown",
   "metadata": {},
   "source": [
    "#### 4.4.1 构建获取训练过程中测试误差的函数"
   ]
  },
  {
   "cell_type": "markdown",
   "metadata": {},
   "source": [
    "必要参数有executor,program,reader,feeder,fetch_list。Executor接收传入的program,并根据feed map(输入映射表)和fetch_list(结果获取表) 向program中添加feed operators(数据输入算子)和fetch operators（结果获取算子)。 feed map为该program提供输入数据。fetch_list提供program训练结束后用户预期的变量。\n",
    "- executor表示之前创建的执行器，接收传入的program；\n",
    "- program表示执行器所执行的program，是之前创建的program，如果该项参数没有给定的话则默认使用default_main_program；\n",
    "- reader表示读取到的数据；\n",
    "- feeder表示前向输入的变量；\n",
    "- fetch_list表示用户想得到的变量或者命名的结果。"
   ]
  },
  {
   "cell_type": "code",
   "execution_count": 22,
   "metadata": {},
   "outputs": [],
   "source": [
    "def train_test(executor, program, reader, feeder, fetch_list):\n",
    "    accumulated = 1 * [0]\n",
    "    count = 0\n",
    "    \n",
    "    for data_test in reader():\n",
    "        outs = executor.run(program = program,\n",
    "                           feed = feeder.feed(data_test),\n",
    "                           fetch_list = fetch_list)\n",
    "        \n",
    "        # 累加测试过程中的损失值\n",
    "        accumulated = [x_c[0] + x_c[1][0] for x_c in zip(accumulated, outs)]\n",
    "        \n",
    "        # 累加测试集中的样本数量\n",
    "        count += 1\n",
    "        \n",
    "    # 计算平均损失    \n",
    "    return [x_d / count for x_d in accumulated]"
   ]
  },
  {
   "cell_type": "markdown",
   "metadata": {},
   "source": [
    "#### 4.4.2 构建训练主程序"
   ]
  },
  {
   "cell_type": "markdown",
   "metadata": {},
   "source": [
    "paddlepaddle提供了reader机制来读取训练数据。reader会一次提供多列数据，因此需要一个python的列表来定义读取顺序。构建一个循环来进行训练，直到训练结果足够好或者循环次数足够多。 如果训练迭代次数满足参数保存的迭代次数，可以把训练参数保存到params_dirname。"
   ]
  },
  {
   "cell_type": "code",
   "execution_count": 23,
   "metadata": {},
   "outputs": [],
   "source": [
    "# 设置Epoch轮数\n",
    "EPOCH_NUM = 100"
   ]
  },
  {
   "cell_type": "markdown",
   "metadata": {},
   "source": [
    "注释：\n",
    "- batch_size：批大小。在深度学习中，一般采用SGD训练，即每次训练在训练集中取batchsize个样本训练；\n",
    "- iteration：1个iteration等于使用batchsize个样本训练一次；\n",
    "- epoch：1个epoch等于使用训练集中的全部样本训练一次；\n",
    "\n",
    "举个例子，训练集有1000个样本，batchsize=10，那么：\n",
    "训练完整个样本集需要：\n",
    "100次iteration，1次epoch。"
   ]
  },
  {
   "cell_type": "code",
   "execution_count": 24,
   "metadata": {},
   "outputs": [],
   "source": [
    "# 设置模型存储目录名\n",
    "params_dirname = 'fit_a_line.inference.model'"
   ]
  },
  {
   "cell_type": "code",
   "execution_count": 25,
   "metadata": {},
   "outputs": [],
   "source": [
    "# 设置绘制图形参数\n",
    "train_prompt = \"Train Cost\"\n",
    "test_prompt = \"Test Cost\"\n",
    "\n",
    "from paddle.utils.plot import Ploter\n",
    "plot_prompt = Ploter(train_prompt, test_prompt)"
   ]
  },
  {
   "cell_type": "code",
   "execution_count": 26,
   "metadata": {},
   "outputs": [
    {
     "data": {
      "image/png": "[encoded data removed]",
      "text/plain": [
       "<Figure size 432x288 with 1 Axes>"
      ]
     },
     "metadata": {},
     "output_type": "display_data"
    },
    {
     "name": "stdout",
     "output_type": "stream",
     "text": [
      "Train Cost, Step 2090, Cost 96.110733\n"
     ]
    }
   ],
   "source": [
    "step = 0\n",
    "\n",
    "# 训练EPOCH_NUM轮\n",
    "for pass_id in range(EPOCH_NUM):\n",
    "    \n",
    "    # 遍历 train_reader 迭代器\n",
    "    for train_data in train_reader():\n",
    "        train_cost = exe.run(main_program,                    # 运行主程序\n",
    "                             # 喂入一个batch的训练数据，根据feed_list和data提供的信息，\n",
    "                             # 将输入数据转成一种特殊的数据结构\n",
    "                             feed = feeder.feed(train_data),\n",
    "                             fetch_list = [avg_cost])\n",
    "        \n",
    "        # 每10个批次记录并输出一下训练损失\n",
    "        if step % 10 == 0:\n",
    "            plot_prompt.append(train_prompt, step, train_cost[0])\n",
    "            plot_prompt.plot()\n",
    "            print(\"%s, Step %d, Cost %f\" %\n",
    "                  (train_prompt, step, train_cost[0]))\n",
    "        \n",
    "        # 每100批次记录并输出一下测试损失\n",
    "        if step % 100 == 0:\n",
    "            test_cost = train_test(executor = exe_test,\n",
    "                                   program = test_program,\n",
    "                                   reader = test_reader,\n",
    "                                   feeder = feeder,\n",
    "                                   fetch_list = [avg_cost]\n",
    "                                    )\n",
    "            \n",
    "            plot_prompt.append(test_prompt, step, test_cost[0])\n",
    "            plot_prompt.plot()\n",
    "            print(\"%s, Step %d, Cost %f\" %\n",
    "                 (test_prompt, step, test_cost[0]))\n",
    "            \n",
    "            # 如果准确率达到要求，则停止训练\n",
    "            if test_cost[0] < 10.0:\n",
    "                break\n",
    "        \n",
    "        step += 1\n",
    "                \n",
    "        if math.isnan(float(train_cost[0])):\n",
    "            sys.exit(\"Got NaN loss, training failed.\")\n",
    "        \n",
    "        # 保存训练参数到之前给定的路径中\n",
    "        if params_dirname is not None:\n",
    "            fluid.io.save_inference_model(params_dirname,  # 保存model的路径\n",
    "                                          ['x'],  # 保存建模（inference）需要 feed 的数据\n",
    "                                          [y_predict],  # 保存建模（inference）结果的 Variables\n",
    "                                          exe)    # exe 保存 inference model"
   ]
  },
  {
   "cell_type": "markdown",
   "metadata": {},
   "source": [
    "## Step5: 模型预测"
   ]
  },
  {
   "cell_type": "markdown",
   "metadata": {},
   "source": [
    "需要构建一个使用训练好的参数来进行预测的程序，训练好的参数位置在`params_dirname`。"
   ]
  },
  {
   "cell_type": "markdown",
   "metadata": {},
   "source": [
    "### 5.1 准备预测环境"
   ]
  },
  {
   "cell_type": "markdown",
   "metadata": {},
   "source": [
    "类似于训练过程，预测器需要一个预测程序来做预测。可以稍加修改训练程序来把预测值包含进来。"
   ]
  },
  {
   "cell_type": "code",
   "execution_count": 27,
   "metadata": {},
   "outputs": [],
   "source": [
    "# 创建预测用的Executor\n",
    "predict_exe = fluid.Executor(place)\n",
    "\n",
    "# 创建Scope指定作用域\n",
    "predict_scope = fluid.core.Scope()"
   ]
  },
  {
   "cell_type": "markdown",
   "metadata": {},
   "source": [
    "### 5.2 可视化真实值与预测值"
   ]
  },
  {
   "cell_type": "code",
   "execution_count": 28,
   "metadata": {},
   "outputs": [],
   "source": [
    "def draw_result(ground_truths, predict_results):\n",
    "    plt.title('Boston Price', fontsize = 24)\n",
    "    x = np.arange(1, 20)\n",
    "    y = x\n",
    "    plt.plot(x, y)\n",
    "    plt.xlabel('Ground Truth', fontsize = 14)\n",
    "    plt.ylabel('Predict Result', fontsize = 14)\n",
    "    plt.scatter(ground_truths, predict_results, color='green', label='training cost')\n",
    "    plt.grid()\n",
    "    plt.show()\n",
    "    plt.savefig('./image/prediction_gt.png')"
   ]
  },
  {
   "cell_type": "markdown",
   "metadata": {},
   "source": [
    "### 5.3 预测"
   ]
  },
  {
   "cell_type": "markdown",
   "metadata": {},
   "source": [
    "通过fluid.io.load_inference_model，预测器会从params_dirname中读取已经训练好的模型，来对从未遇见过的数据进行预测。"
   ]
  },
  {
   "cell_type": "code",
   "execution_count": 29,
   "metadata": {},
   "outputs": [
    {
     "name": "stdout",
     "output_type": "stream",
     "text": [
      "Predict Results:\n",
      "0: 14.38\n",
      "1: 14.62\n",
      "2: 14.22\n",
      "3: 16.06\n",
      "4: 14.77\n",
      "5: 15.39\n",
      "6: 14.69\n",
      "7: 14.50\n",
      "8: 12.00\n",
      "9: 14.48\n",
      "10: 11.44\n",
      "11: 13.28\n",
      "12: 14.03\n",
      "13: 13.54\n",
      "14: 13.35\n",
      "15: 14.67\n",
      "16: 15.97\n",
      "17: 15.83\n",
      "18: 16.08\n",
      "19: 14.18\n",
      "20: 14.90\n",
      "21: 13.50\n",
      "22: 15.49\n",
      "23: 14.89\n",
      "24: 14.79\n",
      "25: 14.08\n",
      "26: 15.30\n",
      "27: 15.15\n",
      "28: 16.24\n",
      "29: 15.20\n",
      "30: 14.97\n",
      "31: 14.35\n",
      "32: 14.43\n",
      "33: 13.18\n",
      "34: 12.81\n",
      "35: 15.18\n",
      "36: 15.25\n",
      "37: 15.82\n",
      "38: 16.04\n",
      "39: 15.87\n",
      "40: 14.42\n",
      "41: 13.89\n",
      "42: 15.70\n",
      "43: 16.08\n",
      "44: 15.94\n",
      "45: 15.55\n",
      "46: 14.68\n",
      "47: 16.09\n",
      "48: 16.22\n",
      "49: 16.62\n",
      "50: 14.51\n",
      "51: 14.87\n",
      "52: 14.28\n",
      "53: 14.57\n",
      "54: 15.97\n",
      "55: 16.56\n",
      "56: 15.98\n",
      "57: 16.64\n",
      "58: 16.79\n",
      "59: 17.12\n",
      "60: 17.33\n",
      "61: 17.12\n",
      "62: 14.74\n",
      "63: 15.71\n",
      "64: 16.57\n",
      "65: 17.25\n",
      "66: 16.84\n",
      "67: 17.21\n",
      "68: 17.36\n",
      "69: 17.89\n",
      "70: 15.78\n",
      "71: 15.30\n",
      "72: 16.46\n",
      "73: 14.81\n",
      "74: 16.18\n",
      "75: 16.87\n",
      "76: 17.97\n",
      "77: 18.32\n",
      "78: 18.52\n",
      "79: 18.27\n",
      "80: 17.76\n",
      "81: 18.13\n",
      "82: 16.99\n",
      "83: 17.79\n",
      "84: 16.69\n",
      "85: 15.71\n",
      "86: 14.85\n",
      "87: 16.82\n",
      "88: 17.65\n",
      "89: 22.61\n",
      "90: 22.80\n",
      "91: 22.52\n",
      "92: 21.10\n",
      "93: 22.09\n",
      "94: 22.44\n",
      "95: 21.80\n",
      "96: 22.00\n",
      "97: 23.39\n",
      "98: 23.06\n",
      "99: 23.57\n",
      "Ground Truth:\n",
      "0: 8.50\n",
      "1: 5.00\n",
      "2: 11.90\n",
      "3: 27.90\n",
      "4: 17.20\n",
      "5: 27.50\n",
      "6: 15.00\n",
      "7: 17.20\n",
      "8: 17.90\n",
      "9: 16.30\n",
      "10: 7.00\n",
      "11: 7.20\n",
      "12: 7.50\n",
      "13: 10.40\n",
      "14: 8.80\n",
      "15: 8.40\n",
      "16: 16.70\n",
      "17: 14.20\n",
      "18: 20.80\n",
      "19: 13.40\n",
      "20: 11.70\n",
      "21: 8.30\n",
      "22: 10.20\n",
      "23: 10.90\n",
      "24: 11.00\n",
      "25: 9.50\n",
      "26: 14.50\n",
      "27: 14.10\n",
      "28: 16.10\n",
      "29: 14.30\n",
      "30: 11.70\n",
      "31: 13.40\n",
      "32: 9.60\n",
      "33: 8.70\n",
      "34: 8.40\n",
      "35: 12.80\n",
      "36: 10.50\n",
      "37: 17.10\n",
      "38: 18.40\n",
      "39: 15.40\n",
      "40: 10.80\n",
      "41: 11.80\n",
      "42: 14.90\n",
      "43: 12.60\n",
      "44: 14.10\n",
      "45: 13.00\n",
      "46: 13.40\n",
      "47: 15.20\n",
      "48: 16.10\n",
      "49: 17.80\n",
      "50: 14.90\n",
      "51: 14.10\n",
      "52: 12.70\n",
      "53: 13.50\n",
      "54: 14.90\n",
      "55: 20.00\n",
      "56: 16.40\n",
      "57: 17.70\n",
      "58: 19.50\n",
      "59: 20.20\n",
      "60: 21.40\n",
      "61: 19.90\n",
      "62: 19.00\n",
      "63: 19.10\n",
      "64: 19.10\n",
      "65: 20.10\n",
      "66: 19.90\n",
      "67: 19.60\n",
      "68: 23.20\n",
      "69: 29.80\n",
      "70: 13.80\n",
      "71: 13.30\n",
      "72: 16.70\n",
      "73: 12.00\n",
      "74: 14.60\n",
      "75: 21.40\n",
      "76: 23.00\n",
      "77: 23.70\n",
      "78: 25.00\n",
      "79: 21.80\n",
      "80: 20.60\n",
      "81: 21.20\n",
      "82: 19.10\n",
      "83: 20.60\n",
      "84: 15.20\n",
      "85: 7.00\n",
      "86: 8.10\n",
      "87: 13.60\n",
      "88: 20.10\n",
      "89: 21.80\n",
      "90: 24.50\n",
      "91: 23.10\n",
      "92: 19.70\n",
      "93: 18.30\n",
      "94: 21.20\n",
      "95: 17.50\n",
      "96: 16.80\n",
      "97: 22.40\n",
      "98: 20.60\n",
      "99: 23.90\n"
     ]
    }
   ],
   "source": [
    "ground_truths = []\n",
    "predict_results = []\n",
    "\n",
    "# 修改全局/默认作用域（scope）, 运行时中的所有变量都将分配给新的scope。\n",
    "with fluid.scope_guard(predict_scope):\n",
    "    [predict_program, # 预测的program\n",
    "     feed_target_names,  # 需要在预测program中提供数据的变量名称\n",
    "     fetch_targets] = fluid.io.load_inference_model( #fetch_targets: 预测结果\n",
    "                                    params_dirname, # 模型路径\n",
    "                                    predict_exe) # 预测用executor\n",
    "    \n",
    "    # 获取uci_housing的测试数据，从测试数据中读取一个大小为100的batch数据\n",
    "    batch_size = 100\n",
    "    predict_reader = paddle.batch(\n",
    "        paddle.dataset.uci_housing.test(), batch_size = batch_size)\n",
    "    \n",
    "    # 从predict_reader中分割特征和标签\n",
    "    predict_data = next(predict_reader())\n",
    "    \n",
    "    predict_feature = np.array(\n",
    "        [data[0] for data in predict_data]).astype('float32')\n",
    "    \n",
    "    ground_label = np.array(\n",
    "        [data[1] for data in predict_data]).astype('float32')\n",
    "    \n",
    "    assert feed_target_names[0] == 'x'\n",
    "    \n",
    "    results = predict_exe.run(predict_program, # 预测模型\n",
    "                             feed = {feed_target_names[0]: np.array(predict_feature)}, # 喂入要预测的X值\n",
    "                             fetch_list = fetch_targets) # 获取预测结果\n",
    "    \n",
    "    print('Predict Results:')\n",
    "    for idx, val in enumerate(results[0]):\n",
    "        print('%d: %.2f' % (idx, val))\n",
    "        predict_results.append(val)\n",
    "    \n",
    "    print('Ground Truth:')\n",
    "    for idx, val in enumerate(ground_label):\n",
    "        print('%d: %.2f' % (idx, val))\n",
    "        ground_truths.append(val)"
   ]
  },
  {
   "cell_type": "code",
   "execution_count": 30,
   "metadata": {},
   "outputs": [
    {
     "name": "stderr",
     "output_type": "stream",
     "text": [
      "C:\\Users\\chenpan\\AppData\\Local\\Continuum\\anaconda3\\lib\\site-packages\\ipykernel_launcher.py:10: UserWarning: Matplotlib is currently using agg, which is a non-GUI backend, so cannot show the figure.\n",
      "  # Remove the CWD from sys.path while we load stuff.\n"
     ]
    }
   ],
   "source": [
    "draw_result(ground_truths, predict_results)"
   ]
  }
 ],
 "metadata": {
  "kernelspec": {
   "display_name": "Python 3",
   "language": "python",
   "name": "python3"
  },
  "language_info": {
   "codemirror_mode": {
    "name": "ipython",
    "version": 3
   },
   "file_extension": ".py",
   "mimetype": "text/x-python",
   "name": "python",
   "nbconvert_exporter": "python",
   "pygments_lexer": "ipython3",
   "version": "3.7.4"
  }
 },
 "nbformat": 4,
 "nbformat_minor": 2
}
